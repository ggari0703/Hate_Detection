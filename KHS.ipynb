{
 "cells": [
  {
   "cell_type": "code",
   "execution_count": 33,
   "metadata": {},
   "outputs": [
    {
     "name": "stdout",
     "output_type": "stream",
     "text": [
      "                                            comments  contain_gender_bias  \\\n",
      "0  (현재 호텔주인 심정) 아18 난 마른하늘에 날벼락맞고 호텔망하게생겼는데 누군 계속...                    0   \n",
      "1  ....한국적인 미인의 대표적인 분...너무나 곱고아름다운모습...그모습뒤의 슬픔을...                    0   \n",
      "2  ...못된 넘들...남의 고통을 즐겼던 넘들..이젠 마땅한 처벌을 받아야지..,그래...                    0   \n",
      "3                 1,2화 어설펐는데 3,4화 지나서부터는 갈수록 너무 재밌던데                    0   \n",
      "4  1. 사람 얼굴 손톱으로 긁은것은 인격살해이고2. 동영상이 몰카냐? 메걸리안들 생각...                    1   \n",
      "\n",
      "   bias  hate  \n",
      "0     1     1  \n",
      "1     0     0  \n",
      "2     0     1  \n",
      "3     0     0  \n",
      "4     1     1  \n"
     ]
    },
    {
     "name": "stderr",
     "output_type": "stream",
     "text": [
      "/var/folders/sd/pq30895j7xl996rt4n_pcm0r0000gn/T/ipykernel_77541/4099103749.py:30: FutureWarning: Series.__getitem__ treating keys as positions is deprecated. In a future version, integer keys will always be treated as labels (consistent with DataFrame behavior). To access a value by position, use `ser.iloc[pos]`\n",
      "  return [labels[i] for i in range(len(labels)) if row[i+1] == 1]\n"
     ]
    },
    {
     "name": "stdout",
     "output_type": "stream",
     "text": [
      "Shape of X: (7896, 100)\n",
      "Shape of y: (7896, 3)\n"
     ]
    }
   ],
   "source": [
    "import pandas as pd\n",
    "import numpy as np\n",
    "from sklearn.preprocessing import MultiLabelBinarizer\n",
    "import re\n",
    "import tensorflow as tf\n",
    "from tensorflow.keras.preprocessing.text import Tokenizer\n",
    "from tensorflow.keras.preprocessing.sequence import pad_sequences\n",
    "\n",
    "# Load the dataset\n",
    "file_path = '/Users/simgyuseong/Documents/Hate_Detection/dataset/raw/KHS_dataset/KHS_dataset.txt'\n",
    "data = pd.read_csv(file_path, delimiter=',')\n",
    "\n",
    "# Display the first few rows of the dataset\n",
    "print(data.head())\n",
    "\n",
    "# Define the labels\n",
    "labels = ['contain_gender' , 'bias' , 'hate']\n",
    "# Text cleaning function\n",
    "def clean_text(text):\n",
    "    # Remove non-alphanumeric characters and extra spaces\n",
    "    text = re.sub(r'\\s+', ' ', text)\n",
    "    text = re.sub(r\"[^a-zA-Z가-힣0-9\\s]\", \"\", text)\n",
    "    return text.strip()\n",
    "\n",
    "# Clean the 'comments' column\n",
    "data['comments'] = data['comments'].apply(clean_text)\n",
    "\n",
    "# Convert labels to a list of labels\n",
    "def extract_labels(row):\n",
    "    return [labels[i] for i in range(len(labels)) if row[i+1] == 1]\n",
    "\n",
    "data['labels'] = data.apply(extract_labels, axis=1)\n",
    "\n",
    "# Tokenize the sentences\n",
    "tokenizer = Tokenizer()\n",
    "tokenizer.fit_on_texts(data['comments'])\n",
    "sequences = tokenizer.texts_to_sequences(data['comments'])\n",
    "\n",
    "# Pad the sequences\n",
    "maxlen = 100  # You can adjust the maxlen according to your needs\n",
    "X = pad_sequences(sequences, maxlen=maxlen)\n",
    "\n",
    "# Binarize the labels\n",
    "mlb = MultiLabelBinarizer(classes=labels)\n",
    "y = mlb.fit_transform(data['labels'])\n",
    "\n",
    "# Print the shape of the dataset\n",
    "print(f'Shape of X: {X.shape}')\n",
    "print(f'Shape of y: {y.shape}')\n",
    "\n",
    "\n"
   ]
  },
  {
   "cell_type": "code",
   "execution_count": 34,
   "metadata": {},
   "outputs": [
    {
     "name": "stdout",
     "output_type": "stream",
     "text": [
      "단어 집합(vocabulary)의 크기 : 37086\n",
      "등장 빈도가 2번 이하인 희귀 단어의 수: 33817\n",
      "단어 집합에서 희귀 단어의 비율: 91.1853529633824\n",
      "전체 등장 빈도에서 희귀 단어 등장 빈도 비율: 57.118334776691825\n"
     ]
    }
   ],
   "source": [
    "threshold = 3\n",
    "total_cnt = len(tokenizer.word_index) # 단어의 수\n",
    "rare_cnt = 0 # 등장 빈도수가 threshold보다 작은 단어의 개수를 카운트\n",
    "total_freq = 0 # 훈련 데이터의 전체 단어 빈도수 총 합\n",
    "rare_freq = 0 # 등장 빈도수가 threshold보다 작은 단어의 등장 빈도수의 총 합\n",
    "\n",
    "# 단어와 빈도수의 쌍(pair)을 key와 value로 받는다.\n",
    "for key, value in tokenizer.word_counts.items():\n",
    "    total_freq = total_freq + value\n",
    "\n",
    "    # 단어의 등장 빈도수가 threshold보다 작으면\n",
    "    if(value < threshold):\n",
    "        rare_cnt = rare_cnt + 1\n",
    "        rare_freq = rare_freq + value\n",
    "\n",
    "print('단어 집합(vocabulary)의 크기 :',total_cnt)\n",
    "print('등장 빈도가 %s번 이하인 희귀 단어의 수: %s'%(threshold - 1, rare_cnt))\n",
    "print(\"단어 집합에서 희귀 단어의 비율:\", (rare_cnt / total_cnt)*100)\n",
    "print(\"전체 등장 빈도에서 희귀 단어 등장 빈도 비율:\", (rare_freq / total_freq)*100)"
   ]
  },
  {
   "cell_type": "code",
   "execution_count": 35,
   "metadata": {},
   "outputs": [
    {
     "name": "stdout",
     "output_type": "stream",
     "text": [
      "단어 집합의 크기 : 3271\n"
     ]
    }
   ],
   "source": [
    "# 전체 단어 개수 중 빈도수 2이하인 단어 개수는 제거.\n",
    "# 0번 패딩 토큰과 1번 OOV 토큰을 고려하여 +2\n",
    "vocab_size = total_cnt - rare_cnt + 2\n",
    "print('단어 집합의 크기 :',vocab_size)"
   ]
  },
  {
   "cell_type": "code",
   "execution_count": null,
   "metadata": {},
   "outputs": [],
   "source": []
  }
 ],
 "metadata": {
  "kernelspec": {
   "display_name": "Python 3",
   "language": "python",
   "name": "python3"
  },
  "language_info": {
   "codemirror_mode": {
    "name": "ipython",
    "version": 3
   },
   "file_extension": ".py",
   "mimetype": "text/x-python",
   "name": "python",
   "nbconvert_exporter": "python",
   "pygments_lexer": "ipython3",
   "version": "3.12.3"
  }
 },
 "nbformat": 4,
 "nbformat_minor": 2
}
