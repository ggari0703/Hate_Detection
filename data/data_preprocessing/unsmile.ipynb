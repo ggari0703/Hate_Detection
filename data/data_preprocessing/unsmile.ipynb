{
 "cells": [
  {
   "cell_type": "code",
   "execution_count": 2,
   "metadata": {},
   "outputs": [
    {
     "name": "stdout",
     "output_type": "stream",
     "text": [
      "                                                  문장  여성/가족  남성  성소수자  인종/국적  \\\n",
      "0  ㅇㄱㄹㅇ 진짜 죽어도 상관없다는 마인드로 싸웠더니 지금 서열 상타취노 식칼들고 니가...      0   1     0      0   \n",
      "1                         여자들은 취미가 애낳는건가.. 취미를 좀 가져라      1   0     0      0   \n",
      "2                           개슬람녀 다 필요없고 니 엄마만 있으면 된다      0   0     0      1   \n",
      "3  조팔ㅋㅋ 남한 길거리 돌아다니면 한국남자때문에 눈재기하는데 그걸 내 폰에 굳이 담아...      0   1     0      0   \n",
      "4                              바지 내리다 한남들 와꾸 보고 올려뿟노      0   1     0      0   \n",
      "\n",
      "   연령  지역  종교  기타 혐오  악플/욕설  clean  개인지칭  \n",
      "0   0   0   0      0      0      0     0  \n",
      "1   0   0   0      0      0      0     0  \n",
      "2   0   0   1      0      0      0     0  \n",
      "3   0   0   0      0      0      0     0  \n",
      "4   0   0   0      0      0      0     0  \n"
     ]
    },
    {
     "name": "stderr",
     "output_type": "stream",
     "text": [
      "/var/folders/sd/pq30895j7xl996rt4n_pcm0r0000gn/T/ipykernel_80817/4203024401.py:31: FutureWarning: Series.__getitem__ treating keys as positions is deprecated. In a future version, integer keys will always be treated as labels (consistent with DataFrame behavior). To access a value by position, use `ser.iloc[pos]`\n",
      "  return [labels[i] for i in range(len(labels)) if row[i+1] == 1]\n"
     ]
    },
    {
     "name": "stdout",
     "output_type": "stream",
     "text": [
      "Shape of X: (18742, 100)\n",
      "Shape of y: (18742, 11)\n"
     ]
    }
   ],
   "source": [
    "import pandas as pd\n",
    "import numpy as np\n",
    "from sklearn.preprocessing import MultiLabelBinarizer\n",
    "import re\n",
    "import tensorflow as tf\n",
    "from tensorflow.keras.preprocessing.text import Tokenizer\n",
    "from tensorflow.keras.preprocessing.sequence import pad_sequences\n",
    "\n",
    "# Load the dataset\n",
    "file_path = '/Users/simgyuseong/Documents/Hate_Detection/dataset/raw/unsmile/unsmile_dataset.txt'\n",
    "data = pd.read_csv(file_path, delimiter='\\t')\n",
    "\n",
    "# Display the first few rows of the dataset\n",
    "print(data.head())\n",
    "\n",
    "# Define the labels\n",
    "labels = ['여성/가족', '남성', '성소수자', '인종/국적', '연령', '지역', '종교', '기타 혐오', '악플/욕설', 'clean', '개인지칭']\n",
    "\n",
    "# Text cleaning function\n",
    "def clean_text(text):\n",
    "    # Remove non-alphanumeric characters and extra spaces\n",
    "    text = re.sub(r'\\s+', ' ', text)\n",
    "    text = re.sub(r\"[^a-zA-Z가-힣0-9\\s]\", \"\", text)\n",
    "    return text.strip()\n",
    "\n",
    "# Clean the '문장' column\n",
    "data['문장'] = data['문장'].apply(clean_text)\n",
    "\n",
    "# Convert labels to a list of labels\n",
    "def extract_labels(row):\n",
    "    return [labels[i] for i in range(len(labels)) if row[i+1] == 1]\n",
    "\n",
    "data['labels'] = data.apply(extract_labels, axis=1)\n",
    "\n",
    "# Tokenize the sentences\n",
    "tokenizer = Tokenizer()\n",
    "tokenizer.fit_on_texts(data['문장'])\n",
    "sequences = tokenizer.texts_to_sequences(data['문장'])\n",
    "\n",
    "# Pad the sequences\n",
    "maxlen = 100  # You can adjust the maxlen according to your needs\n",
    "X = pad_sequences(sequences, maxlen=maxlen)\n",
    "\n",
    "# Binarize the labels\n",
    "mlb = MultiLabelBinarizer(classes=labels)\n",
    "y = mlb.fit_transform(data['labels'])\n",
    "\n",
    "# Print the shape of the dataset\n",
    "print(f'Shape of X: {X.shape}')\n",
    "print(f'Shape of y: {y.shape}')"
   ]
  },
  {
   "cell_type": "code",
   "execution_count": 4,
   "metadata": {},
   "outputs": [
    {
     "name": "stdout",
     "output_type": "stream",
     "text": [
      "단어 집합(vocabulary)의 크기 : 79471\n",
      "등장 빈도가 2번 이하인 희귀 단어의 수: 71542\n",
      "단어 집합에서 희귀 단어의 비율: 90.02277560367932\n",
      "전체 등장 빈도에서 희귀 단어 등장 빈도 비율: 49.58030465836546\n"
     ]
    }
   ],
   "source": [
    "threshold = 3\n",
    "total_cnt = len(tokenizer.word_index) # 단어의 수\n",
    "rare_cnt = 0 # 등장 빈도수가 threshold보다 작은 단어의 개수를 카운트\n",
    "total_freq = 0 # 훈련 데이터의 전체 단어 빈도수 총 합\n",
    "rare_freq = 0 # 등장 빈도수가 threshold보다 작은 단어의 등장 빈도수의 총 합\n",
    "\n",
    "# 단어와 빈도수의 쌍(pair)을 key와 value로 받는다.\n",
    "for key, value in tokenizer.word_counts.items():\n",
    "    total_freq = total_freq + value\n",
    "\n",
    "    # 단어의 등장 빈도수가 threshold보다 작으면\n",
    "    if(value < threshold):\n",
    "        rare_cnt = rare_cnt + 1\n",
    "        rare_freq = rare_freq + value\n",
    "\n",
    "print('단어 집합(vocabulary)의 크기 :',total_cnt)\n",
    "print('등장 빈도가 %s번 이하인 희귀 단어의 수: %s'%(threshold - 1, rare_cnt))\n",
    "print(\"단어 집합에서 희귀 단어의 비율:\", (rare_cnt / total_cnt)*100)\n",
    "print(\"전체 등장 빈도에서 희귀 단어 등장 빈도 비율:\", (rare_freq / total_freq)*100)"
   ]
  },
  {
   "cell_type": "code",
   "execution_count": 5,
   "metadata": {},
   "outputs": [
    {
     "name": "stdout",
     "output_type": "stream",
     "text": [
      "단어 집합의 크기 : 7931\n"
     ]
    }
   ],
   "source": [
    "# 전체 단어 개수 중 빈도수 2이하인 단어 개수는 제거.\n",
    "# 0번 패딩 토큰과 1번 OOV 토큰을 고려하여 +2\n",
    "vocab_size = total_cnt - rare_cnt + 2\n",
    "print('단어 집합의 크기 :',vocab_size)"
   ]
  },
  {
   "cell_type": "code",
   "execution_count": null,
   "metadata": {},
   "outputs": [],
   "source": []
  }
 ],
 "metadata": {
  "kernelspec": {
   "display_name": "Python 3",
   "language": "python",
   "name": "python3"
  },
  "language_info": {
   "codemirror_mode": {
    "name": "ipython",
    "version": 3
   },
   "file_extension": ".py",
   "mimetype": "text/x-python",
   "name": "python",
   "nbconvert_exporter": "python",
   "pygments_lexer": "ipython3",
   "version": "3.12.3"
  }
 },
 "nbformat": 4,
 "nbformat_minor": 2
}
