{
 "cells": [
  {
   "cell_type": "code",
   "execution_count": 1,
   "metadata": {
    "id": "kObLHZEr4Gik",
    "tags": []
   },
   "outputs": [
    {
     "name": "stdout",
     "output_type": "stream",
     "text": [
      "True\n"
     ]
    }
   ],
   "source": [
    "import torch\n",
    "\n",
    "# GPU 사용 가능 -> True, GPU 사용 불가 -> False\n",
    "print(torch.cuda.is_available())"
   ]
  },
  {
   "cell_type": "code",
   "execution_count": 2,
   "metadata": {
    "id": "ERTAD-9t4Y_s",
    "tags": []
   },
   "outputs": [
    {
     "name": "stderr",
     "output_type": "stream",
     "text": [
      "C:\\Users\\hoong\\anaconda3\\envs\\teampro\\lib\\site-packages\\tqdm\\auto.py:21: TqdmWarning: IProgress not found. Please update jupyter and ipywidgets. See https://ipywidgets.readthedocs.io/en/stable/user_install.html\n",
      "  from .autonotebook import tqdm as notebook_tqdm\n"
     ]
    }
   ],
   "source": [
    "import pandas as pd\n",
    "from transformers import (\n",
    "    AutoTokenizer,\n",
    "    AutoModelForSequenceClassification,\n",
    "    Trainer,\n",
    "    TrainingArguments,\n",
    "    DataCollatorWithPadding\n",
    ")\n",
    "from datasets import Dataset\n",
    "from sklearn.model_selection import train_test_split"
   ]
  },
  {
   "cell_type": "code",
   "execution_count": 3,
   "metadata": {
    "id": "nxXcJAUX4ZCM",
    "tags": []
   },
   "outputs": [],
   "source": [
    "# Load the dataset\n",
    "dataset_url = 'kmhas_dataset.txt'\n",
    "data = pd.read_csv(dataset_url, sep='\\t')"
   ]
  },
  {
   "cell_type": "code",
   "execution_count": 4,
   "metadata": {
    "id": "FeQFn4sB4ZHM",
    "tags": []
   },
   "outputs": [],
   "source": [
    "# Merge labels\n",
    "label_columns = ['출신차별', '외모차별', '정치성향차별', '혐오욕설', '연령차별', '성차별', '인종차별', '종교차별', '해당사항 없음']\n",
    "data['multi_class_label'] = data[label_columns].idxmax(axis=1)"
   ]
  },
  {
   "cell_type": "code",
   "execution_count": 5,
   "metadata": {
    "id": "jT6cPZ4D4ZJy",
    "tags": []
   },
   "outputs": [],
   "source": [
    "# Encode Label & Make label column\n",
    "id2label = {k:v for k, v in enumerate(data['multi_class_label'].unique())}\n",
    "label2id = {v:k for k, v in id2label.items()}\n",
    "\n",
    "data['labels'] = data['multi_class_label'].map(label2id)"
   ]
  },
  {
   "cell_type": "code",
   "execution_count": 6,
   "metadata": {
    "id": "KYpB68hZ4f_w",
    "tags": []
   },
   "outputs": [],
   "source": [
    "# Split and Make Dataset\n",
    "train_data, temp_data = train_test_split(data, test_size=0.2, random_state=42)\n",
    "val_data, test_data = train_test_split(temp_data, test_size=0.5, random_state=42)\n",
    "\n",
    "train_dataset = Dataset.from_dict(train_data)\n",
    "val_dataset = Dataset.from_dict(val_data)\n",
    "test_dataset = Dataset.from_dict(test_data)"
   ]
  },
  {
   "cell_type": "code",
   "execution_count": 7,
   "metadata": {
    "id": "g_1HfzQf4gCH",
    "tags": []
   },
   "outputs": [
    {
     "name": "stderr",
     "output_type": "stream",
     "text": [
      "Map:   0%|                                                                            | 0/87753 [00:00<?, ? examples/s]Asking to truncate to max_length but no maximum length is provided and the model has no predefined maximum length. Default to no truncation.\n",
      "Map: 100%|█████████████████████████████████████████████████████████████| 87753/87753 [00:03<00:00, 28989.87 examples/s]\n",
      "Map: 100%|█████████████████████████████████████████████████████████████| 10969/10969 [00:00<00:00, 34718.73 examples/s]\n",
      "Map: 100%|█████████████████████████████████████████████████████████████| 10970/10970 [00:00<00:00, 36202.60 examples/s]\n"
     ]
    }
   ],
   "source": [
    "# Tokenize Dataset\n",
    "tokenizer = AutoTokenizer.from_pretrained('snunlp/KR-BERT-char16424')\n",
    "def tokenize_data(data):\n",
    "    encoded = tokenizer(\n",
    "        data['document'],\n",
    "        truncation=True\n",
    "    )\n",
    "    encoded['labels'] = data['labels']\n",
    "    return encoded\n",
    "\n",
    "tokenized_train_dataset = train_dataset.map(tokenize_data, batched=True)\n",
    "tokenized_val_dataset = val_dataset.map(tokenize_data, batched=True)\n",
    "tokenized_test_dataset = test_dataset.map(tokenize_data, batched=True)"
   ]
  },
  {
   "cell_type": "code",
   "execution_count": 8,
   "metadata": {
    "id": "dLgmYgHs4gG_",
    "tags": []
   },
   "outputs": [],
   "source": [
    "# Load Collator\n",
    "collator = DataCollatorWithPadding(\n",
    "    tokenizer=tokenizer,\n",
    "    padding='longest'    # pad to longest sequence in batch\n",
    ")"
   ]
  },
  {
   "cell_type": "code",
   "execution_count": 9,
   "metadata": {
    "id": "SGpNhaD74lgJ",
    "tags": []
   },
   "outputs": [],
   "source": [
    "# Function to compute metrics\n",
    "import numpy as np\n",
    "from sklearn.metrics import accuracy_score, f1_score\n",
    "\n",
    "def compute_metrics(p):\n",
    "    preds = np.argmax(p.predictions, axis=1)\n",
    "    accuracy = accuracy_score(p.label_ids, preds)\n",
    "    f1 = f1_score(p.label_ids, preds, average='weighted')\n",
    "    return {'accuracy': accuracy, 'f1': f1}"
   ]
  },
  {
   "cell_type": "code",
   "execution_count": 10,
   "metadata": {
    "id": "bsQ7Nx-74liU",
    "tags": []
   },
   "outputs": [
    {
     "name": "stderr",
     "output_type": "stream",
     "text": [
      "C:\\Users\\hoong\\anaconda3\\envs\\teampro\\lib\\site-packages\\transformers\\training_args.py:1474: FutureWarning: `evaluation_strategy` is deprecated and will be removed in version 4.46 of 🤗 Transformers. Use `eval_strategy` instead\n",
      "  warnings.warn(\n"
     ]
    }
   ],
   "source": [
    "# Load arguments\n",
    "training_args = TrainingArguments(\n",
    "        output_dir='./results',\n",
    "        num_train_epochs=3,\n",
    "        weight_decay=.01,\n",
    "        per_device_train_batch_size=16,\n",
    "        per_device_eval_batch_size=16,\n",
    "        learning_rate=3e-5,\n",
    "        evaluation_strategy='steps',\n",
    "        eval_steps=300,\n",
    "        save_strategy='steps',\n",
    "        save_steps=300,\n",
    "        logging_strategy='steps',\n",
    "        logging_steps=500,\n",
    "        save_total_limit=1,\n",
    "        load_best_model_at_end=True,\n",
    "        metric_for_best_model='eval_f1',\n",
    "        greater_is_better=True,\n",
    "        lr_scheduler_type='cosine',\n",
    "        warmup_ratio=0.1,\n",
    "        no_cuda=False\n",
    "        \n",
    "    )"
   ]
  },
  {
   "cell_type": "code",
   "execution_count": 11,
   "metadata": {
    "id": "ch-2h6rs4lki",
    "tags": []
   },
   "outputs": [
    {
     "name": "stderr",
     "output_type": "stream",
     "text": [
      "Some weights of BertForSequenceClassification were not initialized from the model checkpoint at snunlp/KR-BERT-char16424 and are newly initialized: ['classifier.bias', 'classifier.weight']\n",
      "You should probably TRAIN this model on a down-stream task to be able to use it for predictions and inference.\n",
      "C:\\Users\\hoong\\anaconda3\\envs\\teampro\\lib\\site-packages\\transformers\\models\\bert\\modeling_bert.py:435: UserWarning: 1Torch was not compiled with flash attention. (Triggered internally at C:\\cb\\pytorch_1000000000000\\work\\aten\\src\\ATen\\native\\transformers\\cuda\\sdp_utils.cpp:455.)\n",
      "  attn_output = torch.nn.functional.scaled_dot_product_attention(\n"
     ]
    },
    {
     "data": {
      "text/html": [
       "\n",
       "    <div>\n",
       "      \n",
       "      <progress value='16455' max='16455' style='width:300px; height:20px; vertical-align: middle;'></progress>\n",
       "      [16455/16455 1:37:12, Epoch 3/3]\n",
       "    </div>\n",
       "    <table border=\"1\" class=\"dataframe\">\n",
       "  <thead>\n",
       " <tr style=\"text-align: left;\">\n",
       "      <th>Step</th>\n",
       "      <th>Training Loss</th>\n",
       "      <th>Validation Loss</th>\n",
       "      <th>Accuracy</th>\n",
       "      <th>F1</th>\n",
       "    </tr>\n",
       "  </thead>\n",
       "  <tbody>\n",
       "    <tr>\n",
       "      <td>300</td>\n",
       "      <td>No log</td>\n",
       "      <td>1.421122</td>\n",
       "      <td>0.542164</td>\n",
       "      <td>0.387853</td>\n",
       "    </tr>\n",
       "    <tr>\n",
       "      <td>600</td>\n",
       "      <td>1.567700</td>\n",
       "      <td>1.077805</td>\n",
       "      <td>0.653660</td>\n",
       "      <td>0.579817</td>\n",
       "    </tr>\n",
       "    <tr>\n",
       "      <td>900</td>\n",
       "      <td>1.567700</td>\n",
       "      <td>0.750907</td>\n",
       "      <td>0.747926</td>\n",
       "      <td>0.745073</td>\n",
       "    </tr>\n",
       "    <tr>\n",
       "      <td>1200</td>\n",
       "      <td>0.927100</td>\n",
       "      <td>0.643419</td>\n",
       "      <td>0.783845</td>\n",
       "      <td>0.781271</td>\n",
       "    </tr>\n",
       "    <tr>\n",
       "      <td>1500</td>\n",
       "      <td>0.700500</td>\n",
       "      <td>0.604973</td>\n",
       "      <td>0.799344</td>\n",
       "      <td>0.791792</td>\n",
       "    </tr>\n",
       "    <tr>\n",
       "      <td>1800</td>\n",
       "      <td>0.700500</td>\n",
       "      <td>0.588735</td>\n",
       "      <td>0.801714</td>\n",
       "      <td>0.794763</td>\n",
       "    </tr>\n",
       "    <tr>\n",
       "      <td>2100</td>\n",
       "      <td>0.611800</td>\n",
       "      <td>0.566720</td>\n",
       "      <td>0.800164</td>\n",
       "      <td>0.801498</td>\n",
       "    </tr>\n",
       "    <tr>\n",
       "      <td>2400</td>\n",
       "      <td>0.611800</td>\n",
       "      <td>0.543881</td>\n",
       "      <td>0.814112</td>\n",
       "      <td>0.809433</td>\n",
       "    </tr>\n",
       "    <tr>\n",
       "      <td>2700</td>\n",
       "      <td>0.590200</td>\n",
       "      <td>0.520287</td>\n",
       "      <td>0.820768</td>\n",
       "      <td>0.816635</td>\n",
       "    </tr>\n",
       "    <tr>\n",
       "      <td>3000</td>\n",
       "      <td>0.544400</td>\n",
       "      <td>0.542648</td>\n",
       "      <td>0.818762</td>\n",
       "      <td>0.813656</td>\n",
       "    </tr>\n",
       "    <tr>\n",
       "      <td>3300</td>\n",
       "      <td>0.544400</td>\n",
       "      <td>0.517964</td>\n",
       "      <td>0.818306</td>\n",
       "      <td>0.818287</td>\n",
       "    </tr>\n",
       "    <tr>\n",
       "      <td>3600</td>\n",
       "      <td>0.546300</td>\n",
       "      <td>0.479892</td>\n",
       "      <td>0.829337</td>\n",
       "      <td>0.826969</td>\n",
       "    </tr>\n",
       "    <tr>\n",
       "      <td>3900</td>\n",
       "      <td>0.546300</td>\n",
       "      <td>0.507433</td>\n",
       "      <td>0.822773</td>\n",
       "      <td>0.815851</td>\n",
       "    </tr>\n",
       "    <tr>\n",
       "      <td>4200</td>\n",
       "      <td>0.506400</td>\n",
       "      <td>0.491417</td>\n",
       "      <td>0.830614</td>\n",
       "      <td>0.829977</td>\n",
       "    </tr>\n",
       "    <tr>\n",
       "      <td>4500</td>\n",
       "      <td>0.491400</td>\n",
       "      <td>0.480319</td>\n",
       "      <td>0.838180</td>\n",
       "      <td>0.832817</td>\n",
       "    </tr>\n",
       "    <tr>\n",
       "      <td>4800</td>\n",
       "      <td>0.491400</td>\n",
       "      <td>0.475613</td>\n",
       "      <td>0.839183</td>\n",
       "      <td>0.833768</td>\n",
       "    </tr>\n",
       "    <tr>\n",
       "      <td>5100</td>\n",
       "      <td>0.490100</td>\n",
       "      <td>0.469422</td>\n",
       "      <td>0.837907</td>\n",
       "      <td>0.836551</td>\n",
       "    </tr>\n",
       "    <tr>\n",
       "      <td>5400</td>\n",
       "      <td>0.490100</td>\n",
       "      <td>0.457896</td>\n",
       "      <td>0.843741</td>\n",
       "      <td>0.839966</td>\n",
       "    </tr>\n",
       "    <tr>\n",
       "      <td>5700</td>\n",
       "      <td>0.477100</td>\n",
       "      <td>0.476863</td>\n",
       "      <td>0.838910</td>\n",
       "      <td>0.835888</td>\n",
       "    </tr>\n",
       "    <tr>\n",
       "      <td>6000</td>\n",
       "      <td>0.362300</td>\n",
       "      <td>0.465592</td>\n",
       "      <td>0.843194</td>\n",
       "      <td>0.842807</td>\n",
       "    </tr>\n",
       "    <tr>\n",
       "      <td>6300</td>\n",
       "      <td>0.362300</td>\n",
       "      <td>0.492063</td>\n",
       "      <td>0.845474</td>\n",
       "      <td>0.841416</td>\n",
       "    </tr>\n",
       "    <tr>\n",
       "      <td>6600</td>\n",
       "      <td>0.355600</td>\n",
       "      <td>0.496491</td>\n",
       "      <td>0.835263</td>\n",
       "      <td>0.836696</td>\n",
       "    </tr>\n",
       "    <tr>\n",
       "      <td>6900</td>\n",
       "      <td>0.355600</td>\n",
       "      <td>0.490683</td>\n",
       "      <td>0.847115</td>\n",
       "      <td>0.841292</td>\n",
       "    </tr>\n",
       "    <tr>\n",
       "      <td>7200</td>\n",
       "      <td>0.362500</td>\n",
       "      <td>0.465605</td>\n",
       "      <td>0.848391</td>\n",
       "      <td>0.846413</td>\n",
       "    </tr>\n",
       "    <tr>\n",
       "      <td>7500</td>\n",
       "      <td>0.373200</td>\n",
       "      <td>0.479064</td>\n",
       "      <td>0.840095</td>\n",
       "      <td>0.841562</td>\n",
       "    </tr>\n",
       "    <tr>\n",
       "      <td>7800</td>\n",
       "      <td>0.373200</td>\n",
       "      <td>0.463626</td>\n",
       "      <td>0.847753</td>\n",
       "      <td>0.848463</td>\n",
       "    </tr>\n",
       "    <tr>\n",
       "      <td>8100</td>\n",
       "      <td>0.358800</td>\n",
       "      <td>0.455253</td>\n",
       "      <td>0.850852</td>\n",
       "      <td>0.851978</td>\n",
       "    </tr>\n",
       "    <tr>\n",
       "      <td>8400</td>\n",
       "      <td>0.358800</td>\n",
       "      <td>0.453103</td>\n",
       "      <td>0.850944</td>\n",
       "      <td>0.851174</td>\n",
       "    </tr>\n",
       "    <tr>\n",
       "      <td>8700</td>\n",
       "      <td>0.351400</td>\n",
       "      <td>0.449842</td>\n",
       "      <td>0.848026</td>\n",
       "      <td>0.848842</td>\n",
       "    </tr>\n",
       "    <tr>\n",
       "      <td>9000</td>\n",
       "      <td>0.355000</td>\n",
       "      <td>0.441841</td>\n",
       "      <td>0.849758</td>\n",
       "      <td>0.848079</td>\n",
       "    </tr>\n",
       "    <tr>\n",
       "      <td>9300</td>\n",
       "      <td>0.355000</td>\n",
       "      <td>0.440995</td>\n",
       "      <td>0.852949</td>\n",
       "      <td>0.849994</td>\n",
       "    </tr>\n",
       "    <tr>\n",
       "      <td>9600</td>\n",
       "      <td>0.353900</td>\n",
       "      <td>0.436020</td>\n",
       "      <td>0.852767</td>\n",
       "      <td>0.852306</td>\n",
       "    </tr>\n",
       "    <tr>\n",
       "      <td>9900</td>\n",
       "      <td>0.353900</td>\n",
       "      <td>0.436523</td>\n",
       "      <td>0.855502</td>\n",
       "      <td>0.855532</td>\n",
       "    </tr>\n",
       "    <tr>\n",
       "      <td>10200</td>\n",
       "      <td>0.352500</td>\n",
       "      <td>0.446032</td>\n",
       "      <td>0.852402</td>\n",
       "      <td>0.847511</td>\n",
       "    </tr>\n",
       "    <tr>\n",
       "      <td>10500</td>\n",
       "      <td>0.346800</td>\n",
       "      <td>0.443639</td>\n",
       "      <td>0.854317</td>\n",
       "      <td>0.854218</td>\n",
       "    </tr>\n",
       "    <tr>\n",
       "      <td>10800</td>\n",
       "      <td>0.346800</td>\n",
       "      <td>0.435299</td>\n",
       "      <td>0.856687</td>\n",
       "      <td>0.856110</td>\n",
       "    </tr>\n",
       "    <tr>\n",
       "      <td>11100</td>\n",
       "      <td>0.326300</td>\n",
       "      <td>0.478470</td>\n",
       "      <td>0.856869</td>\n",
       "      <td>0.855243</td>\n",
       "    </tr>\n",
       "    <tr>\n",
       "      <td>11400</td>\n",
       "      <td>0.326300</td>\n",
       "      <td>0.496166</td>\n",
       "      <td>0.851764</td>\n",
       "      <td>0.851762</td>\n",
       "    </tr>\n",
       "    <tr>\n",
       "      <td>11700</td>\n",
       "      <td>0.197200</td>\n",
       "      <td>0.502134</td>\n",
       "      <td>0.853223</td>\n",
       "      <td>0.853345</td>\n",
       "    </tr>\n",
       "    <tr>\n",
       "      <td>12000</td>\n",
       "      <td>0.210300</td>\n",
       "      <td>0.524848</td>\n",
       "      <td>0.850123</td>\n",
       "      <td>0.850199</td>\n",
       "    </tr>\n",
       "    <tr>\n",
       "      <td>12300</td>\n",
       "      <td>0.210300</td>\n",
       "      <td>0.527439</td>\n",
       "      <td>0.854134</td>\n",
       "      <td>0.853722</td>\n",
       "    </tr>\n",
       "    <tr>\n",
       "      <td>12600</td>\n",
       "      <td>0.200500</td>\n",
       "      <td>0.530562</td>\n",
       "      <td>0.855046</td>\n",
       "      <td>0.854918</td>\n",
       "    </tr>\n",
       "    <tr>\n",
       "      <td>12900</td>\n",
       "      <td>0.200500</td>\n",
       "      <td>0.531592</td>\n",
       "      <td>0.856505</td>\n",
       "      <td>0.855681</td>\n",
       "    </tr>\n",
       "    <tr>\n",
       "      <td>13200</td>\n",
       "      <td>0.203300</td>\n",
       "      <td>0.551424</td>\n",
       "      <td>0.852676</td>\n",
       "      <td>0.851716</td>\n",
       "    </tr>\n",
       "    <tr>\n",
       "      <td>13500</td>\n",
       "      <td>0.196000</td>\n",
       "      <td>0.543396</td>\n",
       "      <td>0.855137</td>\n",
       "      <td>0.853869</td>\n",
       "    </tr>\n",
       "    <tr>\n",
       "      <td>13800</td>\n",
       "      <td>0.196000</td>\n",
       "      <td>0.533409</td>\n",
       "      <td>0.854134</td>\n",
       "      <td>0.852757</td>\n",
       "    </tr>\n",
       "    <tr>\n",
       "      <td>14100</td>\n",
       "      <td>0.220100</td>\n",
       "      <td>0.535690</td>\n",
       "      <td>0.854773</td>\n",
       "      <td>0.853846</td>\n",
       "    </tr>\n",
       "    <tr>\n",
       "      <td>14400</td>\n",
       "      <td>0.220100</td>\n",
       "      <td>0.541147</td>\n",
       "      <td>0.854590</td>\n",
       "      <td>0.854013</td>\n",
       "    </tr>\n",
       "    <tr>\n",
       "      <td>14700</td>\n",
       "      <td>0.193800</td>\n",
       "      <td>0.536138</td>\n",
       "      <td>0.855137</td>\n",
       "      <td>0.854441</td>\n",
       "    </tr>\n",
       "    <tr>\n",
       "      <td>15000</td>\n",
       "      <td>0.213200</td>\n",
       "      <td>0.535435</td>\n",
       "      <td>0.854317</td>\n",
       "      <td>0.853729</td>\n",
       "    </tr>\n",
       "    <tr>\n",
       "      <td>15300</td>\n",
       "      <td>0.213200</td>\n",
       "      <td>0.537656</td>\n",
       "      <td>0.855411</td>\n",
       "      <td>0.854445</td>\n",
       "    </tr>\n",
       "    <tr>\n",
       "      <td>15600</td>\n",
       "      <td>0.194500</td>\n",
       "      <td>0.537205</td>\n",
       "      <td>0.854226</td>\n",
       "      <td>0.853661</td>\n",
       "    </tr>\n",
       "    <tr>\n",
       "      <td>15900</td>\n",
       "      <td>0.194500</td>\n",
       "      <td>0.537230</td>\n",
       "      <td>0.853770</td>\n",
       "      <td>0.853167</td>\n",
       "    </tr>\n",
       "    <tr>\n",
       "      <td>16200</td>\n",
       "      <td>0.206800</td>\n",
       "      <td>0.537449</td>\n",
       "      <td>0.853679</td>\n",
       "      <td>0.853088</td>\n",
       "    </tr>\n",
       "  </tbody>\n",
       "</table><p>"
      ],
      "text/plain": [
       "<IPython.core.display.HTML object>"
      ]
     },
     "metadata": {},
     "output_type": "display_data"
    },
    {
     "data": {
      "text/plain": [
       "TrainOutput(global_step=16455, training_loss=0.41247275812362905, metrics={'train_runtime': 5833.2672, 'train_samples_per_second': 45.131, 'train_steps_per_second': 2.821, 'total_flos': 9246233687364432.0, 'train_loss': 0.41247275812362905, 'epoch': 3.0})"
      ]
     },
     "execution_count": 11,
     "metadata": {},
     "output_type": "execute_result"
    }
   ],
   "source": [
    "# Load & Train model\n",
    "\n",
    "model = AutoModelForSequenceClassification.from_pretrained('snunlp/KR-BERT-char16424', id2label=id2label, label2id=label2id)\n",
    "trainer = Trainer(\n",
    "    model=model,\n",
    "    args=training_args,\n",
    "    train_dataset=tokenized_train_dataset,\n",
    "    eval_dataset=tokenized_val_dataset,\n",
    "    data_collator=collator,\n",
    "    compute_metrics=compute_metrics\n",
    ")\n",
    "\n",
    "trainer.train()"
   ]
  },
  {
   "cell_type": "code",
   "execution_count": 12,
   "metadata": {
    "id": "l6Td6Bj54lmc",
    "tags": []
   },
   "outputs": [
    {
     "data": {
      "text/html": [
       "\n",
       "    <div>\n",
       "      \n",
       "      <progress value='686' max='686' style='width:300px; height:20px; vertical-align: middle;'></progress>\n",
       "      [686/686 00:42]\n",
       "    </div>\n",
       "    "
      ],
      "text/plain": [
       "<IPython.core.display.HTML object>"
      ]
     },
     "metadata": {},
     "output_type": "display_data"
    },
    {
     "name": "stdout",
     "output_type": "stream",
     "text": [
      "Test Accuracy: 0.8548769371011851\n",
      "Test F1 Score: 0.8544621206129359\n"
     ]
    }
   ],
   "source": [
    "# Evaluate the final model on the test set\n",
    "test_results = trainer.evaluate(tokenized_test_dataset)\n",
    "\n",
    "print(f\"Test Accuracy: {test_results['eval_accuracy']}\")\n",
    "print(f\"Test F1 Score: {test_results['eval_f1']}\")"
   ]
  },
  {
   "cell_type": "code",
   "execution_count": 14,
   "metadata": {
    "id": "3qa9_lsT4loT",
    "tags": []
   },
   "outputs": [
    {
     "data": {
      "image/png": "[encoded data removed]",
      "text/plain": [
       "<Figure size 1200x800 with 4 Axes>"
      ]
     },
     "metadata": {},
     "output_type": "display_data"
    }
   ],
   "source": [
    "import matplotlib.pyplot as plt\n",
    "\n",
    "# Fetching metrics from the trainer's logs\n",
    "log_history = trainer.state.log_history\n",
    "\n",
    "# Extracting values for plotting\n",
    "train_steps = []\n",
    "train_loss = []\n",
    "eval_steps = []\n",
    "eval_loss = []\n",
    "eval_accuracy = []\n",
    "eval_f1 = []\n",
    "\n",
    "for entry in log_history:\n",
    "    if 'loss' in entry and 'step' in entry:\n",
    "        train_steps.append(entry['step'])\n",
    "        train_loss.append(entry['loss'])\n",
    "    elif 'eval_loss' in entry:\n",
    "        eval_steps.append(entry['step'])  # Ensure steps are logged with eval metrics\n",
    "        eval_loss.append(entry['eval_loss'])\n",
    "        eval_accuracy.append(entry['eval_accuracy'])\n",
    "        eval_f1.append(entry['eval_f1'])\n",
    "\n",
    "# Creating the plots\n",
    "plt.figure(figsize=(12, 8))\n",
    "\n",
    "plt.subplot(2, 2, 1)\n",
    "plt.plot(train_steps, train_loss, label='Training Loss')\n",
    "plt.xlabel('Step')\n",
    "plt.ylabel('Loss')\n",
    "plt.title('Training Loss')\n",
    "plt.legend()\n",
    "\n",
    "plt.subplot(2, 2, 2)\n",
    "plt.plot(eval_steps, eval_loss, label='Evaluation Loss')  # Use eval_steps here\n",
    "plt.xlabel('Step')\n",
    "plt.ylabel('Loss')\n",
    "plt.title('Evaluation Loss')\n",
    "plt.legend()\n",
    "\n",
    "plt.subplot(2, 2, 3)\n",
    "plt.plot(eval_steps, eval_accuracy, label='Evaluation Accuracy')  # Use eval_steps here\n",
    "plt.xlabel('Step')\n",
    "plt.ylabel('Accuracy')\n",
    "plt.title('Evaluation Accuracy')\n",
    "plt.legend()\n",
    "\n",
    "plt.subplot(2, 2, 4)\n",
    "plt.plot(eval_steps, eval_f1, label='Evaluation F1 Score')  # Use eval_steps here\n",
    "plt.xlabel('Step')\n",
    "plt.ylabel('F1 Score')\n",
    "plt.title('Evaluation F1 Score')\n",
    "plt.legend()\n",
    "\n",
    "plt.tight_layout()\n",
    "plt.show()"
   ]
  },
  {
   "cell_type": "code",
   "execution_count": 15,
   "metadata": {
    "id": "dWVeHS-mMD4s",
    "tags": []
   },
   "outputs": [
    {
     "data": {
      "text/plain": [
       "<matplotlib.legend.Legend at 0x238b9168880>"
      ]
     },
     "execution_count": 15,
     "metadata": {},
     "output_type": "execute_result"
    },
    {
     "data": {
      "image/png": "[encoded data removed]",
      "text/plain": [
       "<Figure size 1200x600 with 1 Axes>"
      ]
     },
     "metadata": {},
     "output_type": "display_data"
    }
   ],
   "source": [
    "import matplotlib.pyplot as plt\n",
    "\n",
    "# Fetching metrics from the trainer's logs\n",
    "log_history = trainer.state.log_history\n",
    "\n",
    "# Extracting values for plotting\n",
    "train_steps = []\n",
    "train_loss = []\n",
    "eval_steps = []\n",
    "eval_loss = []\n",
    "eval_accuracy = []\n",
    "eval_f1 = []\n",
    "\n",
    "for entry in log_history:\n",
    "    if 'loss' in entry and 'step' in entry:\n",
    "        train_steps.append(entry['step'])\n",
    "        train_loss.append(entry['loss'])\n",
    "    elif 'eval_loss' in entry:\n",
    "        eval_steps.append(entry['step'])  # Ensure steps are logged with eval metrics\n",
    "        eval_loss.append(entry['eval_loss'])\n",
    "        eval_accuracy.append(entry['eval_accuracy'])\n",
    "        eval_f1.append(entry['eval_f1'])\n",
    "\n",
    "# Plotting Loss (Training and Evaluation on the same graph)\n",
    "plt.figure(figsize=(12, 6))\n",
    "\n",
    "plt.plot(train_steps, train_loss, label='Training Loss', color='blue')\n",
    "plt.plot(eval_steps, eval_loss, label='Evaluation Loss', color='red')\n",
    "plt.xlabel('Step')\n",
    "plt.ylabel('Loss')\n",
    "plt.title('Training vs Evaluation Loss')\n",
    "plt.legend()\n"
   ]
  },
  {
   "cell_type": "code",
   "execution_count": null,
   "metadata": {},
   "outputs": [],
   "source": []
  }
 ],
 "metadata": {
  "colab": {
   "provenance": []
  },
  "kernelspec": {
   "display_name": "Python 3 (ipykernel)",
   "language": "python",
   "name": "python3"
  },
  "language_info": {
   "codemirror_mode": {
    "name": "ipython",
    "version": 3
   },
   "file_extension": ".py",
   "mimetype": "text/x-python",
   "name": "python",
   "nbconvert_exporter": "python",
   "pygments_lexer": "ipython3",
   "version": "3.8.19"
  }
 },
 "nbformat": 4,
 "nbformat_minor": 4
}
