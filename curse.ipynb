{
 "cells": [
  {
   "cell_type": "code",
   "execution_count": 3,
   "metadata": {},
   "outputs": [
    {
     "name": "stdout",
     "output_type": "stream",
     "text": [
      "                                      comments label  contains_profanity\n",
      "0                                    좌배 까는건 ㅇㅂ     1               False\n",
      "1                 집에 롱 패딩만 세 개다. 10년 더 입어야지 ㅋㅋ     0               False\n",
      "2  개소리야 니가 빨갱이를 옹호하고 드루킹을 ㅇㅇ짓이라고 말못해서 삐진거야 빨갱아     1               False\n",
      "3                                  세탁이라고 봐도 된다     0               False\n",
      "4                           애새끼가 초딩도 아니고 ㅋㅋㅋㅋ      1               False\n"
     ]
    }
   ],
   "source": []
  },
  {
   "cell_type": "code",
   "execution_count": null,
   "metadata": {},
   "outputs": [],
   "source": []
  },
  {
   "cell_type": "code",
   "execution_count": 4,
   "metadata": {},
   "outputs": [],
   "source": [
    "# 학습시킬 텍스트 파일 경로 설정\n",
    "file_path = '/Users/simgyuseong/Documents/Hate_Detection/dataset/raw/curse_detection_data/dataset.txt'\n",
    "\n",
    "# 텍스트 파일 읽기\n",
    "with open(file_path, 'r', encoding='utf-8') as file:\n",
    "    corpus = [line.strip() for line in file]"
   ]
  },
  {
   "cell_type": "code",
   "execution_count": 7,
   "metadata": {},
   "outputs": [],
   "source": [
    "\n",
    "from soynlp.normalizer import *\n",
    "# 정제된 텍스트를 저장할 리스트 초기화\n",
    "cleaned_corpus = []\n",
    "# 각 문장에 대해 이모티콘 정제 적용\n",
    "for sentence in corpus:\n",
    "    cleaned_sentence = emoticon_normalize(sentence, num_repeats=3)\n",
    "    cleaned_corpus.append(cleaned_sentence)"
   ]
  },
  {
   "cell_type": "code",
   "execution_count": 10,
   "metadata": {},
   "outputs": [
    {
     "name": "stdout",
     "output_type": "stream",
     "text": [
      "                                                  문장\n",
      "0                                        좌배 까는건 ㅇㅂ|1\n",
      "1                     집에 롱 패딩만 세 개다. 10년 더 입어야지 ㅋㅋ|0\n",
      "2       개소리야 니가 빨갱이를 옹호하고 드루킹을 ㅇㅇ이라고 말못해서 삐진거야 빨갱아|1\n",
      "3                                      세탁이라고 봐도 된다|0\n",
      "4                                애새끼가 초딩도 아니고 ㅋㅋㅋ |1\n",
      "5  731부대의 후예라 그런지 가학적인 아이디어는 세계최고임 이래서 애교만 떨어도 돈 ...\n",
      "6                                          재앙이한건햇노|1\n",
      "7                   글쓴이 와꾸 승리에 비하면 방사능 피폭 원숭이 일듯..|1\n",
      "8                  마 씨발련 아 몇평이고 맷개드갔노 니 대하이햄하고 해밨나|1\n",
      "9                  은행에 대출 상담 받으러 가보면 직업의 귀천 바로 알려줌|0\n"
     ]
    }
   ],
   "source": [
    "# 정제된 문장을 \"문장\" column으로 하는 DataFrame 생성\n",
    "df = pd.DataFrame({'문장': cleaned_corpus})\n",
    "\n",
    "# DataFrame 출력\n",
    "print(df.head(10))\n"
   ]
  },
  {
   "cell_type": "code",
   "execution_count": 9,
   "metadata": {},
   "outputs": [
    {
     "name": "stdout",
     "output_type": "stream",
     "text": [
      "                                                     문장 라벨\n",
      "0                                             좌배 까는건 ㅇㅂ  1\n",
      "1                          집에 롱 패딩만 세 개다. 10년 더 입어야지 ㅋㅋ  0\n",
      "2            개소리야 니가 빨갱이를 옹호하고 드루킹을 ㅇㅇ이라고 말못해서 삐진거야 빨갱아  1\n",
      "3                                           세탁이라고 봐도 된다  0\n",
      "4                                     애새끼가 초딩도 아니고 ㅋㅋㅋ   1\n",
      "...                                                 ... ..\n",
      "5820         좌우 헬파이어 3개씩 6개 장착에 아파치보다 약하지만 20mm 기관포 장착임  0\n",
      "5821  세금 내놓으라고 데모질 중 ㅋㅋ첩, 도둑놈 새끼들이 대통령 해처먹으니까 나도 같이 ...  1\n",
      "5822                                          너가 한 말 중에  0\n",
      "5823                                            제갈대중 ㅇㅂ  0\n",
      "5824                           우리나라교회는 악마들이모여 주뎅이 처벌리고   1\n",
      "\n",
      "[5825 rows x 2 columns]\n"
     ]
    }
   ],
   "source": [
    "# '|'을 기준으로 문자열 분리하고, 0과 1을 라벨로 저장\n",
    "df['라벨'] = df['문장'].str.split('|').str[1].str.strip()\n",
    "\n",
    "# '\\n' 제거\n",
    "df['문장'] = df['문장'].str.replace('\\n', '')\n",
    "\n",
    "# 라벨 및 | 제거\n",
    "df['문장'] = df['문장'].str.replace('|0', '')\n",
    "df['문장'] = df['문장'].str.replace('|1', '')\n",
    "\n",
    "# 결과 출력\n",
    "print(df)"
   ]
  },
  {
   "cell_type": "code",
   "execution_count": null,
   "metadata": {},
   "outputs": [],
   "source": []
  }
 ],
 "metadata": {
  "kernelspec": {
   "display_name": "Python 3",
   "language": "python",
   "name": "python3"
  },
  "language_info": {
   "codemirror_mode": {
    "name": "ipython",
    "version": 3
   },
   "file_extension": ".py",
   "mimetype": "text/x-python",
   "name": "python",
   "nbconvert_exporter": "python",
   "pygments_lexer": "ipython3",
   "version": "3.12.3"
  }
 },
 "nbformat": 4,
 "nbformat_minor": 2
}
